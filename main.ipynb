{
 "cells": [
  {
   "cell_type": "code",
   "execution_count": 1,
   "id": "016dad4b",
   "metadata": {},
   "outputs": [],
   "source": [
    "###倒入會用到的函式庫\n",
    "from PIL import Image \n",
    "import csv\n",
    "import cv2\n",
    "import numpy as np\n",
    "from PIL import Image\n",
    "import pandas as pd\n",
    "import math"
   ]
  },
  {
   "cell_type": "code",
   "execution_count": 2,
   "id": "c93394da",
   "metadata": {},
   "outputs": [],
   "source": [
    "###把\"鴨子樣本\"的RGB存成.csv檔\n",
    "#其label皆為1\n",
    "img = Image.open(\"C:\\\\Users\\\\rachel\\\\Desktop\\\\UseBayesToFindingDuck\\\\image\\\\duck.jpg\") \n",
    "img_width = 255\n",
    "img_height = 255 \n",
    "img_width, img_height, = img.size #我想要的圖片大小\n",
    "pix = img.load() # 讀取像素值\n",
    "\n",
    "##創造一個csv檔來儲存讀取圖片中每個像素的資料\n",
    "#W+可讀可寫可建立\n",
    "with open(\"C:\\\\Users\\\\rachel\\\\Desktop\\\\UseBayesToFindingDuck\\\\pixel_RGBtrain.csv\", 'w+') as f:  \n",
    "    \n",
    "    f.write('r,g,b,label\\n') #在第一列的地方標註其每欄的值為何 (分別是R ,G ,B ,Label)\n",
    "    for x in range(img_width):           #for loop x as img_width \n",
    "        for y in range(img_height):      #for loop y as img_height\n",
    "            r = pix[x,y][0]                  \n",
    "            g = pix[x,y][1]                  \n",
    "            b = pix[x,y][2]                  \n",
    "            f.write('{0},{1},{2},1\\n'.format(r,g,b,1))     #format as r,g,b,1\n"
   ]
  },
  {
   "cell_type": "code",
   "execution_count": 3,
   "id": "5635998b",
   "metadata": {},
   "outputs": [],
   "source": [
    "###把\"非鴨子樣本\"的RGB存成.csv檔\n",
    "#其label皆為2\n",
    "imgb = Image.open(\"C:\\\\Users\\\\rachel\\\\Desktop\\\\UseBayesToFindingDuck\\\\image\\\\unduck.jpg\")\n",
    "\n",
    "imgb_width = 255\n",
    "imgb_height = 255 \n",
    "imgb_width, imgb_height, = imgb.size #Size of the image I want\n",
    "pixb = imgb.load() # loading the pixel value\n",
    "\n",
    "#a+可讀可寫可建立不覆蓋可追加\n",
    "with open(\"C:\\\\Users\\\\rachel\\\\Desktop\\\\UseBayesToFindingDuck\\\\pixel_RGBtrain.csv\", 'a+') as fs:\n",
    "                                            \n",
    "    for x in range(imgb_width):          \n",
    "        for y in range(imgb_height):       \n",
    "            r = pixb[x,y][0]                 \n",
    "            g = pixb[x,y][1]                  \n",
    "            b = pixb[x,y][2]                  \n",
    "            fs.write('{0},{1},{2},2\\n'.format(r,g,b,2))    \n"
   ]
  },
  {
   "cell_type": "code",
   "execution_count": 10,
   "id": "169c7216",
   "metadata": {},
   "outputs": [],
   "source": [
    "###train_data準備:\n",
    "#讀取csv檔，並將它轉成dataset\n",
    "lines = csv.reader(open(\"C:\\\\Users\\\\rachel\\\\Desktop\\\\UseBayesToFindingDuck\\\\pixel_RGBtrain.csv\", \"r\"))\n",
    "dataset = list(lines)  # 每行存進去一個list\n",
    "    # print(dataset)\n",
    "for i in range(1, len(dataset)):  # 因為第0行為標註其每欄的值，type式字串，無法轉成數字，所以從1開始\n",
    "    dataset[i] = [float(x) for x in dataset[i]]  # 將轉成數字的Data存進去dataset\n",
    "dataset = dataset[1:]  # 忽略標題那一欄  \n",
    "\n",
    "###test_data準備:\n",
    "#讀取我們test_data_img的圖\n",
    "test_data_img = Image.open(\"C:\\\\Users\\\\rachel\\\\Desktop\\\\UseBayesToFindingDuck\\\\image\\\\full_duck_down.jpg\")\n",
    "test_data_colourPixels = test_data_img.convert(\"RGB\")\n",
    "test_data_colourArray = np.array(test_data_colourPixels.getdata()).reshape(test_data_img.size + (3,))\n",
    "test_data_indicesArray = np.moveaxis(np.indices(test_data_img.size), 0, 2)#將數組的軸移到新位置。\n",
    "\n",
    "allArray = np.dstack((test_data_indicesArray, test_data_colourArray)).reshape((-1, 5))\n",
    "df = pd.DataFrame(allArray, columns=[\"x\", \"y\", \"red\", \"green\", \"blue\"])\n",
    "df.drop(['x', 'y'], axis=1, inplace=True) #將\"X\"，\"Y\"刪除\n",
    "testdata = df.to_numpy().astype(float).tolist()\n",
    "\n",
    "\n",
    "   \n"
   ]
  },
  {
   "cell_type": "code",
   "execution_count": 11,
   "id": "d8936648",
   "metadata": {},
   "outputs": [],
   "source": [
    "###將R,G,B這三個數值欄append成兩個label的vector\n",
    "###計算兩個label的vector各自的均值與標準差\n",
    "\n",
    "def mean(numbers): #均值\n",
    "    return sum(numbers) / float(len(numbers))  # Average number\n",
    "\n",
    "\n",
    "def SD(numbers):  # 標準差\n",
    "    avg = mean(numbers)\n",
    "    variance = sum([pow(x - avg, 2) for x in numbers]) / float(len(numbers) - 1)\n",
    "    return math.sqrt(variance)\n",
    "def calculate(dataset):  # 計算每個屬性的均值和標準差\n",
    "    summaries = [(mean(virtue), SD(virtue)) for virtue in\n",
    "                 zip(*dataset[1:-2])]  # zip函數將資料樣本按照屬性分組為一個個清單，然後可以對每個屬性計算均值和標準差\n",
    "    del summaries[-1]\n",
    "    return summaries \n",
    "\n",
    "separated = {} # 最後一個屬性（-1）為label，返回一個label到dataset做mappimg。\n",
    "for i in range(len(dataset)):\n",
    "    vector = dataset[i]\n",
    "    if (vector[-1] not in separated):  # [-1] 代表array倒數第一個值\n",
    "        separated[vector[-1]] = []\n",
    "    separated[vector[-1]].append(vector)\n",
    "\n",
    "summaries = {}\n",
    "for classValue, instances in separated.items():\n",
    "    summaries[classValue] = calculate(instances)"
   ]
  },
  {
   "cell_type": "code",
   "execution_count": 12,
   "id": "b8bb69f0",
   "metadata": {},
   "outputs": [],
   "source": [
    "###計算各個類別的Gaussian probabilistic likelihood models，可以得到各個label的條件機率\n",
    "###最後再使用Bayes Classifier來做prediction\n",
    "\n",
    "def Probability(x, mean, SD):  # Gaussian probabilistic likelihood models\n",
    "    exponent = math.exp(-(math.pow(x - mean, 2) / (2 * math.pow(SD, 2)))) \n",
    "    return (1 / (math.sqrt(2 * math.pi) * SD)) * exponent\n",
    "\n",
    "\n",
    "predictions = []\n",
    "for i in range(len(testdata)):\n",
    "    probabilities = {}\n",
    "    for classValue, classSummaries in summaries.items():\n",
    "        probabilities[classValue] = 1\n",
    "        for j in range(len(classSummaries)):\n",
    "            mean, SD = classSummaries[j]\n",
    "            x = testdata[i][j]\n",
    "            probabilities[classValue] *= Probability(x, mean, SD)\n",
    "            \n",
    "    bestLabel, bestProb = None, -1\n",
    "    for classValue, probability in probabilities.items():\n",
    "        if bestLabel is None or probability > bestProb:\n",
    "            bestProb = probability\n",
    "            bestLabel = classValue\n",
    "    predictions.append(bestLabel)"
   ]
  },
  {
   "cell_type": "code",
   "execution_count": 13,
   "id": "ec76ab96",
   "metadata": {},
   "outputs": [
    {
     "name": "stdout",
     "output_type": "stream",
     "text": [
      "預測結束並以輸出結果圖\n"
     ]
    }
   ],
   "source": [
    "###GenerateOutputImage\n",
    "###將預測的結果做可視化處理\n",
    "outputImages =[]  \n",
    "for i in range(len(predictions)):\n",
    "    if(1 == int(predictions[i])):#預測的結果為1，代表預測的類別為鴨子，則將當個像素點設為白色\n",
    "        outputImages.append([255,255,255])\n",
    "    else:#其他的預測結果，皆代表預測的類別為非鴨子，則將當個像素點設為黑色\n",
    "        outputImages.append(([0,0,0]))\n",
    "outputImages = np.array(outputImages)\n",
    "\n",
    "\n",
    "#將可視化結果圖的大小設成跟原始圖片一樣的大小\n",
    "original_img = cv2.imread(\"C:\\\\Users\\\\rachel\\\\Desktop\\\\UseBayesToFindingDuck\\\\image\\\\full_duck_down.jpg\")\n",
    "size = original_img.shape \n",
    "array = np.reshape(outputImages, (size[0], -1))\n",
    "\n",
    "# 利用 Pillow 用上面的新array創造一個新的圖片\n",
    "output_image = Image.fromarray(array)\n",
    "output_image = output_image.resize((size[0], size[1]))\n",
    "if output_image.mode == 'P' or output_image.mode == 'RGBA' or output_image.mode == 'I':\n",
    "    output_image = output_image.convert('RGB')\n",
    "\n",
    "output_image.save(\"C:\\\\Users\\\\rachel\\\\Desktop\\\\UseBayesToFindingDuck\\\\Output\\\\Output_full_duck_down.jpg\")\n",
    "print(\"預測結束並以輸出結果圖\")"
   ]
  },
  {
   "cell_type": "code",
   "execution_count": 9,
   "id": "7880726a",
   "metadata": {},
   "outputs": [
    {
     "data": {
      "text/plain": [
       "True"
      ]
     },
     "execution_count": 9,
     "metadata": {},
     "output_type": "execute_result"
    }
   ],
   "source": [
    "###將兩張圖合併成大圖\n",
    "##因為原始圖太大，所以將圖片拆成上下兩部分，分別取名為full_duck_1跟full_duck_2\n",
    "##需跑兩次的4-9cell 來產出Output_full_duck_1跟Output_full_duck_2\n",
    "full_duck_up_img = cv2.imread(\"C:\\\\Users\\\\rachel\\\\Desktop\\\\UseBayesToFindingDuck\\\\Output\\\\Output_full_duck_up.jpg\")\n",
    "full_duck_down_img = cv2.imread(\"C:\\\\Users\\\\rachel\\\\Desktop\\\\UseBayesToFindingDuck\\\\Output\\\\Output_full_duck_down.jpg\")\n",
    "\n",
    "full_duck_up_img_gray = cv2.cvtColor(full_duck_up_img, cv2.COLOR_BGR2GRAY)\n",
    "full_duck_down_img_gray = cv2.cvtColor(full_duck_down_img, cv2.COLOR_BGR2GRAY)\n",
    "\n",
    "full_duck = np.concatenate((full_duck_up_img_gray, full_duck_down_img_gray)) \n",
    "cv2.imwrite(\"C:\\\\Users\\\\rachel\\\\Desktop\\\\UseBayesToFindingDuck\\\\Output\\\\Output_full_duck.jpg\",full_duck)"
   ]
  }
 ],
 "metadata": {
  "kernelspec": {
   "display_name": "Python 3",
   "language": "python",
   "name": "python3"
  },
  "language_info": {
   "codemirror_mode": {
    "name": "ipython",
    "version": 3
   },
   "file_extension": ".py",
   "mimetype": "text/x-python",
   "name": "python",
   "nbconvert_exporter": "python",
   "pygments_lexer": "ipython3",
   "version": "3.8.8"
  }
 },
 "nbformat": 4,
 "nbformat_minor": 5
}
